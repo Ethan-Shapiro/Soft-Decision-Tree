{
 "cells": [
  {
   "cell_type": "code",
   "execution_count": 1,
   "metadata": {},
   "outputs": [],
   "source": [
    "import torch\n",
    "from torchvision import datasets, transforms\n",
    "from torch.utils.data import DataLoader, SubsetRandomSampler\n",
    "from GB_SDT import GB_SDT\n",
    "import numpy as np"
   ]
  },
  {
   "cell_type": "code",
   "execution_count": 2,
   "metadata": {},
   "outputs": [],
   "source": [
    "# Parameters\n",
    "input_dim = 28 * 28  # For MNIST\n",
    "output_dim = 10  # Number of classes in MNIST\n",
    "n_trees = 4\n",
    "depth = 5\n",
    "lr = 0.01  # Learning rate for the ensemble update, not individual tree training\n",
    "internal_lr = 0.001  # Learning rate for training individual trees\n",
    "lamda = 1e-3\n",
    "weight_decay = 5e-4\n",
    "batch_size = 128\n",
    "epochs = 50\n",
    "log_interval = 10\n",
    "use_cuda = torch.cuda.is_available()\n",
    "device = torch.device(\"cuda\" if use_cuda else \"cpu\")\n",
    "\n",
    "# Data loading and augmentation setup\n",
    "transform = transforms.Compose([\n",
    "    transforms.ToTensor(),\n",
    "    transforms.Normalize((0.1307,), (0.3081,))\n",
    "])\n",
    "\n",
    "# Loading the MNIST dataset\n",
    "full_train_dataset = datasets.MNIST(\n",
    "    '../data', train=True, download=True, transform=transform)\n",
    "\n",
    "# Splitting the dataset into training and validation\n",
    "validation_split = 0.2\n",
    "shuffle_dataset = True\n",
    "random_seed = 42\n",
    "\n",
    "dataset_size = len(full_train_dataset)\n",
    "indices = list(range(dataset_size))\n",
    "split = int(np.floor(validation_split * dataset_size))\n",
    "\n",
    "if shuffle_dataset:\n",
    "    np.random.seed(random_seed)\n",
    "    np.random.shuffle(indices)\n",
    "\n",
    "train_indices, val_indices = indices[split:], indices[:split]\n",
    "\n",
    "# Creating data samplers and loaders:\n",
    "train_sampler = SubsetRandomSampler(train_indices)\n",
    "validation_sampler = SubsetRandomSampler(val_indices)\n",
    "\n",
    "train_loader = DataLoader(\n",
    "    full_train_dataset, batch_size=batch_size, sampler=train_sampler)\n",
    "validation_loader = DataLoader(\n",
    "    full_train_dataset, batch_size=batch_size, sampler=validation_sampler)\n",
    "\n",
    "test_loader = DataLoader(\n",
    "    datasets.MNIST('../data', train=False, transform=transform),\n",
    "    batch_size=batch_size, shuffle=False\n",
    ")"
   ]
  },
  {
   "cell_type": "code",
   "execution_count": 3,
   "metadata": {},
   "outputs": [],
   "source": [
    "# Initialize the GB_SDT model\n",
    "model = GB_SDT(input_dim=input_dim, output_dim=output_dim, n_trees=n_trees, lr=lr, internal_lr=internal_lr,\n",
    "                   depth=depth, lamda=lamda, weight_decay=weight_decay, epochs=epochs, log_interval=log_interval, use_cuda=use_cuda)"
   ]
  },
  {
   "cell_type": "code",
   "execution_count": 4,
   "metadata": {},
   "outputs": [],
   "source": [
    "model.load_state_dict(torch.load('GB_SDT_model_2.pth'))"
   ]
  },
  {
   "cell_type": "code",
   "execution_count": 5,
   "metadata": {},
   "outputs": [],
   "source": [
    "model.eval()"
   ]
  },
  {
   "cell_type": "code",
   "execution_count": null,
   "metadata": {},
   "outputs": [],
   "source": []
  }
 ],
 "metadata": {
  "kernelspec": {
   "display_name": "Python 3",
   "language": "python",
   "name": "python3"
  },
  "language_info": {
   "codemirror_mode": {
    "name": "ipython",
    "version": 3
   },
   "file_extension": ".py",
   "mimetype": "text/x-python",
   "name": "python",
   "nbconvert_exporter": "python",
   "pygments_lexer": "ipython3",
   "version": "3.11.5"
  }
 },
 "nbformat": 4,
 "nbformat_minor": 2
}
