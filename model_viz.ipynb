{
 "cells": [
  {
   "cell_type": "code",
   "execution_count": 1,
   "metadata": {},
   "outputs": [],
   "source": [
    "import matplotlib.pyplot as plt\n",
    "import torch\n",
    "import torch.nn as nn\n",
    "import torch.nn.functional as F\n",
    "from torchvision import datasets, transforms\n",
    "\n",
    "from SDT import SDT"
   ]
  },
  {
   "cell_type": "code",
   "execution_count": 2,
   "metadata": {},
   "outputs": [],
   "source": [
    "def onehot_coding(target, device, output_dim):\n",
    "    \"\"\"Convert the class labels into one-hot encoded vectors.\"\"\"\n",
    "    target_onehot = torch.FloatTensor(target.size()[0], output_dim).to(device)\n",
    "    target_onehot.data.zero_()\n",
    "    target_onehot.scatter_(1, target.view(-1, 1), 1.0)\n",
    "    return target_onehot\n",
    "\n",
    "\n",
    "# Parameters\n",
    "input_dim = 28 * 28    # the number of input dimensions\n",
    "output_dim = 10        # the number of outputs (i.e., # classes on MNIST)\n",
    "depth = 5              # tree depth\n",
    "lamda = 1e-3           # coefficient of the regularization term \n",
    "weight_decaly = 5e-4   # weight decay\n",
    "batch_size = 128       # batch size\n",
    "epochs = 50            # the number of training epochs\n",
    "log_interval = 100     # the number of batches to wait before printing logs\n",
    "use_cuda = False       # whether to use GPU\n",
    "\n",
    "# Model and Optimizer\n",
    "tree = SDT(input_dim, output_dim, depth, lamda, use_cuda)\n",
    "\n",
    "# Load data\n",
    "data_dir = \"../Dataset/mnist\"\n",
    "\n",
    "transformer = transforms.Compose(\n",
    "    [transforms.ToTensor(), transforms.Normalize((0.1307,), (0.3081,))]\n",
    ")\n",
    "\n",
    "train_loader = torch.utils.data.DataLoader(\n",
    "    datasets.MNIST(data_dir,\n",
    "                    train=True,\n",
    "                    download=True,\n",
    "                    transform=transformer),\n",
    "    batch_size=batch_size,\n",
    "    shuffle=True,\n",
    ")\n",
    "\n",
    "test_loader = torch.utils.data.DataLoader(\n",
    "    datasets.MNIST(data_dir,\n",
    "                    train=False,\n",
    "                    transform=transformer),\n",
    "    batch_size=batch_size,\n",
    "    shuffle=True,\n",
    ")\n",
    "\n",
    "device = torch.device(\"cuda\" if use_cuda else \"cpu\")"
   ]
  },
  {
   "cell_type": "code",
   "execution_count": 3,
   "metadata": {},
   "outputs": [
    {
     "data": {
      "text/plain": [
       "SDT(\n",
       "  (inner_nodes): Sequential(\n",
       "    (0): Linear(in_features=785, out_features=31, bias=False)\n",
       "    (1): Sigmoid()\n",
       "  )\n",
       "  (leaf_nodes): Linear(in_features=32, out_features=10, bias=False)\n",
       ")"
      ]
     },
     "execution_count": 3,
     "metadata": {},
     "output_type": "execute_result"
    }
   ],
   "source": [
    "tree.load_state_dict(torch.load('tree_state_dict.pth'))\n",
    "tree.eval()"
   ]
  },
  {
   "cell_type": "code",
   "execution_count": 4,
   "metadata": {},
   "outputs": [
    {
     "name": "stdout",
     "output_type": "stream",
     "text": [
      "[[ 3.8524475e-03  3.8999883e-03  3.8580194e-03 ...  3.8543269e-03\n",
      "   3.8515523e-03  3.8695657e-03]\n",
      " [ 3.5954647e-05  3.6008627e-05  3.5962064e-05 ...  3.5951984e-05\n",
      "   3.5979814e-05  3.5981611e-05]\n",
      " [-2.3574934e-05 -2.3640623e-05 -2.3776316e-05 ... -2.3676594e-05\n",
      "  -2.3672825e-05 -2.3504235e-05]\n",
      " ...\n",
      " [-1.2205329e-05 -1.2547387e-05 -1.2566440e-05 ... -1.2404780e-05\n",
      "  -1.2466048e-05 -1.2258826e-05]\n",
      " [-1.6806857e-04 -1.7288330e-04 -1.7240379e-04 ... -1.6939419e-04\n",
      "  -1.6785703e-04 -1.6527562e-04]\n",
      " [ 3.9761573e-05  3.8555532e-05  3.9618579e-05 ...  3.9385457e-05\n",
      "   3.8511276e-05  3.8513652e-05]]\n"
     ]
    },
    {
     "data": {
      "image/png": "[encoded data removed]",
      "text/plain": [
       "<Figure size 640x480 with 2 Axes>"
      ]
     },
     "metadata": {},
     "output_type": "display_data"
    }
   ],
   "source": [
    "# Load a batch of data from the test_loader or train_loader\n",
    "data_iter = iter(test_loader)\n",
    "X, _ = next(data_iter)  # Only fetch the inputs (ignore the targets)\n",
    "\n",
    "# Move the data to the correct device\n",
    "# Flatten the images and move to the device\n",
    "X = X.view(-1, input_dim).to(device)\n",
    "\n",
    "# Compute the Neural Feature Map for this batch of data\n",
    "nfm = tree.compute_nfm(X)\n",
    "\n",
    "# Now `nfm` contains the feature importances, which you can print or analyze further\n",
    "print(nfm)\n",
    "\n",
    "# For example, you could visualize the average NFM across all features\n",
    "\n",
    "# Assuming nfm is a 2D array where the first dimension is the batch size\n",
    "avg_nfm = nfm.mean(axis=0)  # Average over all samples in the batch\n",
    "\n",
    "# Reshape to the original image size if necessary (e.g., for MNIST 28x28)\n",
    "avg_nfm = avg_nfm.reshape(28, 28)\n",
    "\n",
    "# Plot the average NFM\n",
    "plt.imshow(avg_nfm, cmap='grey', interpolation='nearest')\n",
    "plt.colorbar()\n",
    "plt.title('Neural Feature Map')\n",
    "plt.show()"
   ]
  },
  {
   "cell_type": "code",
   "execution_count": 10,
   "metadata": {},
   "outputs": [],
   "source": [
    "outs = tree.forward(X)"
   ]
  },
  {
   "cell_type": "code",
   "execution_count": 16,
   "metadata": {},
   "outputs": [
    {
     "data": {
      "text/plain": [
       "tensor([1, 6, 0, 7, 1, 7, 1, 7, 4, 6, 9, 3, 2, 3, 3, 1, 3, 2, 1, 1, 8, 6, 7, 0,\n",
       "        1, 1, 5, 3, 0, 3, 3, 6, 2, 3, 4, 3, 4, 8, 4, 3, 5, 7, 0, 5, 7, 9, 6, 7,\n",
       "        2, 1, 2, 3, 5, 3, 6, 9, 4, 2, 7, 9, 2, 9, 7, 1, 7, 3, 5, 5, 9, 4, 8, 5,\n",
       "        7, 4, 6, 9, 2, 9, 1, 0, 3, 3, 7, 3, 4, 9, 7, 2, 2, 9, 8, 7, 5, 6, 4, 9,\n",
       "        1, 6, 0, 9, 2, 6, 9, 4, 4, 5, 6, 4, 3, 1, 6, 1, 3, 9, 3, 8, 4, 8, 6, 6,\n",
       "        7, 4, 2, 2, 8, 3, 8, 4])"
      ]
     },
     "execution_count": 16,
     "metadata": {},
     "output_type": "execute_result"
    }
   ],
   "source": [
    "_"
   ]
  },
  {
   "cell_type": "code",
   "execution_count": 18,
   "metadata": {},
   "outputs": [
    {
     "data": {
      "text/plain": [
       "tensor([-0.7875, -0.5752, -0.6269, -0.5320, -0.6303, -0.7408, -0.7709,  5.5197,\n",
       "        -0.7314, -0.1491], grad_fn=<SelectBackward0>)"
      ]
     },
     "execution_count": 18,
     "metadata": {},
     "output_type": "execute_result"
    }
   ],
   "source": [
    "outs[3]"
   ]
  },
  {
   "cell_type": "code",
   "execution_count": null,
   "metadata": {},
   "outputs": [],
   "source": []
  }
 ],
 "metadata": {
  "kernelspec": {
   "display_name": "Python 3",
   "language": "python",
   "name": "python3"
  },
  "language_info": {
   "codemirror_mode": {
    "name": "ipython",
    "version": 3
   },
   "file_extension": ".py",
   "mimetype": "text/x-python",
   "name": "python",
   "nbconvert_exporter": "python",
   "pygments_lexer": "ipython3",
   "version": "3.11.5"
  }
 },
 "nbformat": 4,
 "nbformat_minor": 2
}
